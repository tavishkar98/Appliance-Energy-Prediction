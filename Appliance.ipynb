{
 "cells": [
  {
   "cell_type": "code",
   "execution_count": 1,
   "metadata": {},
   "outputs": [],
   "source": [
    "import numpy as np\n",
    "import pandas as pd\n",
    "import sklearn\n",
    "import seaborn as sns\n",
    "import matplotlib.pyplot as plt"
   ]
  },
  {
   "cell_type": "code",
   "execution_count": 2,
   "metadata": {},
   "outputs": [],
   "source": [
    "from sklearn.model_selection import train_test_split"
   ]
  },
  {
   "cell_type": "markdown",
   "metadata": {},
   "source": [
    "# Reading the data"
   ]
  },
  {
   "cell_type": "code",
   "execution_count": 3,
   "metadata": {},
   "outputs": [],
   "source": [
    "energy_data = pd.read_csv(\"energydata_complete.csv\")"
   ]
  },
  {
   "cell_type": "code",
   "execution_count": 4,
   "metadata": {},
   "outputs": [
    {
     "data": {
      "text/plain": [
       "(19735, 29)"
      ]
     },
     "execution_count": 4,
     "metadata": {},
     "output_type": "execute_result"
    }
   ],
   "source": [
    "energy_data.shape"
   ]
  },
  {
   "cell_type": "code",
   "execution_count": 5,
   "metadata": {},
   "outputs": [
    {
     "data": {
      "text/html": [
       "<div>\n",
       "<style scoped>\n",
       "    .dataframe tbody tr th:only-of-type {\n",
       "        vertical-align: middle;\n",
       "    }\n",
       "\n",
       "    .dataframe tbody tr th {\n",
       "        vertical-align: top;\n",
       "    }\n",
       "\n",
       "    .dataframe thead th {\n",
       "        text-align: right;\n",
       "    }\n",
       "</style>\n",
       "<table border=\"1\" class=\"dataframe\">\n",
       "  <thead>\n",
       "    <tr style=\"text-align: right;\">\n",
       "      <th></th>\n",
       "      <th>date</th>\n",
       "      <th>Appliances</th>\n",
       "      <th>lights</th>\n",
       "      <th>T1</th>\n",
       "      <th>RH_1</th>\n",
       "      <th>T2</th>\n",
       "      <th>RH_2</th>\n",
       "      <th>T3</th>\n",
       "      <th>RH_3</th>\n",
       "      <th>T4</th>\n",
       "      <th>...</th>\n",
       "      <th>T9</th>\n",
       "      <th>RH_9</th>\n",
       "      <th>T_out</th>\n",
       "      <th>Press_mm_hg</th>\n",
       "      <th>RH_out</th>\n",
       "      <th>Windspeed</th>\n",
       "      <th>Visibility</th>\n",
       "      <th>Tdewpoint</th>\n",
       "      <th>rv1</th>\n",
       "      <th>rv2</th>\n",
       "    </tr>\n",
       "  </thead>\n",
       "  <tbody>\n",
       "    <tr>\n",
       "      <th>0</th>\n",
       "      <td>2016-01-11 17:00:00</td>\n",
       "      <td>60</td>\n",
       "      <td>30</td>\n",
       "      <td>19.89</td>\n",
       "      <td>47.596667</td>\n",
       "      <td>19.2</td>\n",
       "      <td>44.790000</td>\n",
       "      <td>19.79</td>\n",
       "      <td>44.730000</td>\n",
       "      <td>19.000000</td>\n",
       "      <td>...</td>\n",
       "      <td>17.033333</td>\n",
       "      <td>45.53</td>\n",
       "      <td>6.600000</td>\n",
       "      <td>733.5</td>\n",
       "      <td>92.0</td>\n",
       "      <td>7.000000</td>\n",
       "      <td>63.000000</td>\n",
       "      <td>5.3</td>\n",
       "      <td>13.275433</td>\n",
       "      <td>13.275433</td>\n",
       "    </tr>\n",
       "    <tr>\n",
       "      <th>1</th>\n",
       "      <td>2016-01-11 17:10:00</td>\n",
       "      <td>60</td>\n",
       "      <td>30</td>\n",
       "      <td>19.89</td>\n",
       "      <td>46.693333</td>\n",
       "      <td>19.2</td>\n",
       "      <td>44.722500</td>\n",
       "      <td>19.79</td>\n",
       "      <td>44.790000</td>\n",
       "      <td>19.000000</td>\n",
       "      <td>...</td>\n",
       "      <td>17.066667</td>\n",
       "      <td>45.56</td>\n",
       "      <td>6.483333</td>\n",
       "      <td>733.6</td>\n",
       "      <td>92.0</td>\n",
       "      <td>6.666667</td>\n",
       "      <td>59.166667</td>\n",
       "      <td>5.2</td>\n",
       "      <td>18.606195</td>\n",
       "      <td>18.606195</td>\n",
       "    </tr>\n",
       "    <tr>\n",
       "      <th>2</th>\n",
       "      <td>2016-01-11 17:20:00</td>\n",
       "      <td>50</td>\n",
       "      <td>30</td>\n",
       "      <td>19.89</td>\n",
       "      <td>46.300000</td>\n",
       "      <td>19.2</td>\n",
       "      <td>44.626667</td>\n",
       "      <td>19.79</td>\n",
       "      <td>44.933333</td>\n",
       "      <td>18.926667</td>\n",
       "      <td>...</td>\n",
       "      <td>17.000000</td>\n",
       "      <td>45.50</td>\n",
       "      <td>6.366667</td>\n",
       "      <td>733.7</td>\n",
       "      <td>92.0</td>\n",
       "      <td>6.333333</td>\n",
       "      <td>55.333333</td>\n",
       "      <td>5.1</td>\n",
       "      <td>28.642668</td>\n",
       "      <td>28.642668</td>\n",
       "    </tr>\n",
       "    <tr>\n",
       "      <th>3</th>\n",
       "      <td>2016-01-11 17:30:00</td>\n",
       "      <td>50</td>\n",
       "      <td>40</td>\n",
       "      <td>19.89</td>\n",
       "      <td>46.066667</td>\n",
       "      <td>19.2</td>\n",
       "      <td>44.590000</td>\n",
       "      <td>19.79</td>\n",
       "      <td>45.000000</td>\n",
       "      <td>18.890000</td>\n",
       "      <td>...</td>\n",
       "      <td>17.000000</td>\n",
       "      <td>45.40</td>\n",
       "      <td>6.250000</td>\n",
       "      <td>733.8</td>\n",
       "      <td>92.0</td>\n",
       "      <td>6.000000</td>\n",
       "      <td>51.500000</td>\n",
       "      <td>5.0</td>\n",
       "      <td>45.410389</td>\n",
       "      <td>45.410389</td>\n",
       "    </tr>\n",
       "    <tr>\n",
       "      <th>4</th>\n",
       "      <td>2016-01-11 17:40:00</td>\n",
       "      <td>60</td>\n",
       "      <td>40</td>\n",
       "      <td>19.89</td>\n",
       "      <td>46.333333</td>\n",
       "      <td>19.2</td>\n",
       "      <td>44.530000</td>\n",
       "      <td>19.79</td>\n",
       "      <td>45.000000</td>\n",
       "      <td>18.890000</td>\n",
       "      <td>...</td>\n",
       "      <td>17.000000</td>\n",
       "      <td>45.40</td>\n",
       "      <td>6.133333</td>\n",
       "      <td>733.9</td>\n",
       "      <td>92.0</td>\n",
       "      <td>5.666667</td>\n",
       "      <td>47.666667</td>\n",
       "      <td>4.9</td>\n",
       "      <td>10.084097</td>\n",
       "      <td>10.084097</td>\n",
       "    </tr>\n",
       "  </tbody>\n",
       "</table>\n",
       "<p>5 rows × 29 columns</p>\n",
       "</div>"
      ],
      "text/plain": [
       "                  date  Appliances  lights     T1       RH_1    T2       RH_2  \\\n",
       "0  2016-01-11 17:00:00          60      30  19.89  47.596667  19.2  44.790000   \n",
       "1  2016-01-11 17:10:00          60      30  19.89  46.693333  19.2  44.722500   \n",
       "2  2016-01-11 17:20:00          50      30  19.89  46.300000  19.2  44.626667   \n",
       "3  2016-01-11 17:30:00          50      40  19.89  46.066667  19.2  44.590000   \n",
       "4  2016-01-11 17:40:00          60      40  19.89  46.333333  19.2  44.530000   \n",
       "\n",
       "      T3       RH_3         T4    ...             T9   RH_9     T_out  \\\n",
       "0  19.79  44.730000  19.000000    ...      17.033333  45.53  6.600000   \n",
       "1  19.79  44.790000  19.000000    ...      17.066667  45.56  6.483333   \n",
       "2  19.79  44.933333  18.926667    ...      17.000000  45.50  6.366667   \n",
       "3  19.79  45.000000  18.890000    ...      17.000000  45.40  6.250000   \n",
       "4  19.79  45.000000  18.890000    ...      17.000000  45.40  6.133333   \n",
       "\n",
       "   Press_mm_hg  RH_out  Windspeed  Visibility  Tdewpoint        rv1        rv2  \n",
       "0        733.5    92.0   7.000000   63.000000        5.3  13.275433  13.275433  \n",
       "1        733.6    92.0   6.666667   59.166667        5.2  18.606195  18.606195  \n",
       "2        733.7    92.0   6.333333   55.333333        5.1  28.642668  28.642668  \n",
       "3        733.8    92.0   6.000000   51.500000        5.0  45.410389  45.410389  \n",
       "4        733.9    92.0   5.666667   47.666667        4.9  10.084097  10.084097  \n",
       "\n",
       "[5 rows x 29 columns]"
      ]
     },
     "execution_count": 5,
     "metadata": {},
     "output_type": "execute_result"
    }
   ],
   "source": [
    "# Displaying the first 5 rows from the dataset\n",
    "energy_data.head()"
   ]
  },
  {
   "cell_type": "code",
   "execution_count": 6,
   "metadata": {},
   "outputs": [],
   "source": [
    "train, test = train_test_split(energy_data, test_size=0.3)"
   ]
  },
  {
   "cell_type": "code",
   "execution_count": 7,
   "metadata": {},
   "outputs": [
    {
     "name": "stdout",
     "output_type": "stream",
     "text": [
      "(13814, 29)\n",
      "(5921, 29)\n"
     ]
    }
   ],
   "source": [
    "print(train.shape)\n",
    "print(test.shape)"
   ]
  },
  {
   "cell_type": "code",
   "execution_count": 8,
   "metadata": {},
   "outputs": [
    {
     "data": {
      "text/html": [
       "<div>\n",
       "<style scoped>\n",
       "    .dataframe tbody tr th:only-of-type {\n",
       "        vertical-align: middle;\n",
       "    }\n",
       "\n",
       "    .dataframe tbody tr th {\n",
       "        vertical-align: top;\n",
       "    }\n",
       "\n",
       "    .dataframe thead th {\n",
       "        text-align: right;\n",
       "    }\n",
       "</style>\n",
       "<table border=\"1\" class=\"dataframe\">\n",
       "  <thead>\n",
       "    <tr style=\"text-align: right;\">\n",
       "      <th></th>\n",
       "      <th>date</th>\n",
       "      <th>Appliances</th>\n",
       "      <th>lights</th>\n",
       "      <th>T1</th>\n",
       "      <th>RH_1</th>\n",
       "      <th>T2</th>\n",
       "      <th>RH_2</th>\n",
       "      <th>T3</th>\n",
       "      <th>RH_3</th>\n",
       "      <th>T4</th>\n",
       "      <th>...</th>\n",
       "      <th>T9</th>\n",
       "      <th>RH_9</th>\n",
       "      <th>T_out</th>\n",
       "      <th>Press_mm_hg</th>\n",
       "      <th>RH_out</th>\n",
       "      <th>Windspeed</th>\n",
       "      <th>Visibility</th>\n",
       "      <th>Tdewpoint</th>\n",
       "      <th>rv1</th>\n",
       "      <th>rv2</th>\n",
       "    </tr>\n",
       "  </thead>\n",
       "  <tbody>\n",
       "    <tr>\n",
       "      <th>165</th>\n",
       "      <td>2016-01-12 20:30:00</td>\n",
       "      <td>50</td>\n",
       "      <td>0</td>\n",
       "      <td>20.000000</td>\n",
       "      <td>43.145000</td>\n",
       "      <td>19.290000</td>\n",
       "      <td>42.450000</td>\n",
       "      <td>19.790000</td>\n",
       "      <td>44.29</td>\n",
       "      <td>19.50</td>\n",
       "      <td>...</td>\n",
       "      <td>16.89</td>\n",
       "      <td>42.845000</td>\n",
       "      <td>4.600000</td>\n",
       "      <td>745.55</td>\n",
       "      <td>92.000000</td>\n",
       "      <td>6.500000</td>\n",
       "      <td>40.000000</td>\n",
       "      <td>3.400000</td>\n",
       "      <td>20.656210</td>\n",
       "      <td>20.656210</td>\n",
       "    </tr>\n",
       "    <tr>\n",
       "      <th>435</th>\n",
       "      <td>2016-01-14 17:30:00</td>\n",
       "      <td>190</td>\n",
       "      <td>0</td>\n",
       "      <td>21.945000</td>\n",
       "      <td>45.300000</td>\n",
       "      <td>21.290000</td>\n",
       "      <td>39.530000</td>\n",
       "      <td>22.426667</td>\n",
       "      <td>45.26</td>\n",
       "      <td>18.70</td>\n",
       "      <td>...</td>\n",
       "      <td>17.00</td>\n",
       "      <td>43.126667</td>\n",
       "      <td>4.550000</td>\n",
       "      <td>748.00</td>\n",
       "      <td>76.000000</td>\n",
       "      <td>6.500000</td>\n",
       "      <td>40.000000</td>\n",
       "      <td>0.650000</td>\n",
       "      <td>40.084385</td>\n",
       "      <td>40.084385</td>\n",
       "    </tr>\n",
       "    <tr>\n",
       "      <th>2660</th>\n",
       "      <td>2016-01-30 04:20:00</td>\n",
       "      <td>30</td>\n",
       "      <td>0</td>\n",
       "      <td>19.290000</td>\n",
       "      <td>44.126667</td>\n",
       "      <td>18.550000</td>\n",
       "      <td>43.790000</td>\n",
       "      <td>19.790000</td>\n",
       "      <td>44.70</td>\n",
       "      <td>16.60</td>\n",
       "      <td>...</td>\n",
       "      <td>16.39</td>\n",
       "      <td>48.730000</td>\n",
       "      <td>8.966667</td>\n",
       "      <td>756.50</td>\n",
       "      <td>84.000000</td>\n",
       "      <td>11.333333</td>\n",
       "      <td>40.000000</td>\n",
       "      <td>6.400000</td>\n",
       "      <td>14.182665</td>\n",
       "      <td>14.182665</td>\n",
       "    </tr>\n",
       "    <tr>\n",
       "      <th>16304</th>\n",
       "      <td>2016-05-03 22:20:00</td>\n",
       "      <td>60</td>\n",
       "      <td>0</td>\n",
       "      <td>22.963333</td>\n",
       "      <td>35.000000</td>\n",
       "      <td>20.856667</td>\n",
       "      <td>35.400000</td>\n",
       "      <td>23.000000</td>\n",
       "      <td>36.20</td>\n",
       "      <td>22.60</td>\n",
       "      <td>...</td>\n",
       "      <td>20.29</td>\n",
       "      <td>37.290000</td>\n",
       "      <td>7.700000</td>\n",
       "      <td>766.00</td>\n",
       "      <td>70.333333</td>\n",
       "      <td>1.000000</td>\n",
       "      <td>40.000000</td>\n",
       "      <td>2.466667</td>\n",
       "      <td>25.634241</td>\n",
       "      <td>25.634241</td>\n",
       "    </tr>\n",
       "    <tr>\n",
       "      <th>5200</th>\n",
       "      <td>2016-02-16 19:40:00</td>\n",
       "      <td>120</td>\n",
       "      <td>30</td>\n",
       "      <td>21.790000</td>\n",
       "      <td>39.026667</td>\n",
       "      <td>19.760000</td>\n",
       "      <td>36.766667</td>\n",
       "      <td>21.066667</td>\n",
       "      <td>36.90</td>\n",
       "      <td>19.39</td>\n",
       "      <td>...</td>\n",
       "      <td>18.29</td>\n",
       "      <td>38.530000</td>\n",
       "      <td>0.233333</td>\n",
       "      <td>770.00</td>\n",
       "      <td>72.666667</td>\n",
       "      <td>1.000000</td>\n",
       "      <td>32.666667</td>\n",
       "      <td>-4.200000</td>\n",
       "      <td>41.323879</td>\n",
       "      <td>41.323879</td>\n",
       "    </tr>\n",
       "  </tbody>\n",
       "</table>\n",
       "<p>5 rows × 29 columns</p>\n",
       "</div>"
      ],
      "text/plain": [
       "                      date  Appliances  lights         T1       RH_1  \\\n",
       "165    2016-01-12 20:30:00          50       0  20.000000  43.145000   \n",
       "435    2016-01-14 17:30:00         190       0  21.945000  45.300000   \n",
       "2660   2016-01-30 04:20:00          30       0  19.290000  44.126667   \n",
       "16304  2016-05-03 22:20:00          60       0  22.963333  35.000000   \n",
       "5200   2016-02-16 19:40:00         120      30  21.790000  39.026667   \n",
       "\n",
       "              T2       RH_2         T3   RH_3     T4    ...         T9  \\\n",
       "165    19.290000  42.450000  19.790000  44.29  19.50    ...      16.89   \n",
       "435    21.290000  39.530000  22.426667  45.26  18.70    ...      17.00   \n",
       "2660   18.550000  43.790000  19.790000  44.70  16.60    ...      16.39   \n",
       "16304  20.856667  35.400000  23.000000  36.20  22.60    ...      20.29   \n",
       "5200   19.760000  36.766667  21.066667  36.90  19.39    ...      18.29   \n",
       "\n",
       "            RH_9     T_out  Press_mm_hg     RH_out  Windspeed  Visibility  \\\n",
       "165    42.845000  4.600000       745.55  92.000000   6.500000   40.000000   \n",
       "435    43.126667  4.550000       748.00  76.000000   6.500000   40.000000   \n",
       "2660   48.730000  8.966667       756.50  84.000000  11.333333   40.000000   \n",
       "16304  37.290000  7.700000       766.00  70.333333   1.000000   40.000000   \n",
       "5200   38.530000  0.233333       770.00  72.666667   1.000000   32.666667   \n",
       "\n",
       "       Tdewpoint        rv1        rv2  \n",
       "165     3.400000  20.656210  20.656210  \n",
       "435     0.650000  40.084385  40.084385  \n",
       "2660    6.400000  14.182665  14.182665  \n",
       "16304   2.466667  25.634241  25.634241  \n",
       "5200   -4.200000  41.323879  41.323879  \n",
       "\n",
       "[5 rows x 29 columns]"
      ]
     },
     "execution_count": 8,
     "metadata": {},
     "output_type": "execute_result"
    }
   ],
   "source": [
    "\n",
    "train.head()"
   ]
  },
  {
   "cell_type": "code",
   "execution_count": 9,
   "metadata": {},
   "outputs": [
    {
     "data": {
      "text/html": [
       "<div>\n",
       "<style scoped>\n",
       "    .dataframe tbody tr th:only-of-type {\n",
       "        vertical-align: middle;\n",
       "    }\n",
       "\n",
       "    .dataframe tbody tr th {\n",
       "        vertical-align: top;\n",
       "    }\n",
       "\n",
       "    .dataframe thead th {\n",
       "        text-align: right;\n",
       "    }\n",
       "</style>\n",
       "<table border=\"1\" class=\"dataframe\">\n",
       "  <thead>\n",
       "    <tr style=\"text-align: right;\">\n",
       "      <th></th>\n",
       "      <th>date</th>\n",
       "      <th>Appliances</th>\n",
       "      <th>lights</th>\n",
       "      <th>T1</th>\n",
       "      <th>RH_1</th>\n",
       "      <th>T2</th>\n",
       "      <th>RH_2</th>\n",
       "      <th>T3</th>\n",
       "      <th>RH_3</th>\n",
       "      <th>T4</th>\n",
       "      <th>...</th>\n",
       "      <th>T9</th>\n",
       "      <th>RH_9</th>\n",
       "      <th>T_out</th>\n",
       "      <th>Press_mm_hg</th>\n",
       "      <th>RH_out</th>\n",
       "      <th>Windspeed</th>\n",
       "      <th>Visibility</th>\n",
       "      <th>Tdewpoint</th>\n",
       "      <th>rv1</th>\n",
       "      <th>rv2</th>\n",
       "    </tr>\n",
       "  </thead>\n",
       "  <tbody>\n",
       "    <tr>\n",
       "      <th>18913</th>\n",
       "      <td>2016-05-22 01:10:00</td>\n",
       "      <td>60</td>\n",
       "      <td>0</td>\n",
       "      <td>24.676364</td>\n",
       "      <td>49.685727</td>\n",
       "      <td>24.278378</td>\n",
       "      <td>47.474054</td>\n",
       "      <td>26.864273</td>\n",
       "      <td>44.006364</td>\n",
       "      <td>23.983784</td>\n",
       "      <td>...</td>\n",
       "      <td>23.181182</td>\n",
       "      <td>48.536364</td>\n",
       "      <td>17.300000</td>\n",
       "      <td>751.183333</td>\n",
       "      <td>82.833333</td>\n",
       "      <td>2.166667</td>\n",
       "      <td>40.000000</td>\n",
       "      <td>14.366667</td>\n",
       "      <td>25.163918</td>\n",
       "      <td>25.163918</td>\n",
       "    </tr>\n",
       "    <tr>\n",
       "      <th>13918</th>\n",
       "      <td>2016-04-17 08:40:00</td>\n",
       "      <td>240</td>\n",
       "      <td>0</td>\n",
       "      <td>21.290000</td>\n",
       "      <td>40.766667</td>\n",
       "      <td>19.356667</td>\n",
       "      <td>43.360000</td>\n",
       "      <td>23.600000</td>\n",
       "      <td>37.900000</td>\n",
       "      <td>21.000000</td>\n",
       "      <td>...</td>\n",
       "      <td>22.030000</td>\n",
       "      <td>42.166667</td>\n",
       "      <td>4.066667</td>\n",
       "      <td>753.666667</td>\n",
       "      <td>91.000000</td>\n",
       "      <td>2.666667</td>\n",
       "      <td>35.000000</td>\n",
       "      <td>2.733333</td>\n",
       "      <td>9.743608</td>\n",
       "      <td>9.743608</td>\n",
       "    </tr>\n",
       "    <tr>\n",
       "      <th>7424</th>\n",
       "      <td>2016-03-03 06:20:00</td>\n",
       "      <td>40</td>\n",
       "      <td>0</td>\n",
       "      <td>20.390000</td>\n",
       "      <td>37.760000</td>\n",
       "      <td>18.600000</td>\n",
       "      <td>38.730000</td>\n",
       "      <td>20.917500</td>\n",
       "      <td>39.000000</td>\n",
       "      <td>19.290000</td>\n",
       "      <td>...</td>\n",
       "      <td>18.290000</td>\n",
       "      <td>42.090000</td>\n",
       "      <td>4.100000</td>\n",
       "      <td>742.833333</td>\n",
       "      <td>85.000000</td>\n",
       "      <td>5.666667</td>\n",
       "      <td>36.333333</td>\n",
       "      <td>1.800000</td>\n",
       "      <td>0.307579</td>\n",
       "      <td>0.307579</td>\n",
       "    </tr>\n",
       "    <tr>\n",
       "      <th>5716</th>\n",
       "      <td>2016-02-20 09:40:00</td>\n",
       "      <td>40</td>\n",
       "      <td>10</td>\n",
       "      <td>19.230000</td>\n",
       "      <td>41.230000</td>\n",
       "      <td>17.700000</td>\n",
       "      <td>43.000000</td>\n",
       "      <td>20.390000</td>\n",
       "      <td>38.400000</td>\n",
       "      <td>17.500000</td>\n",
       "      <td>...</td>\n",
       "      <td>17.600000</td>\n",
       "      <td>43.200000</td>\n",
       "      <td>8.066667</td>\n",
       "      <td>754.300000</td>\n",
       "      <td>97.000000</td>\n",
       "      <td>6.000000</td>\n",
       "      <td>58.666667</td>\n",
       "      <td>7.666667</td>\n",
       "      <td>3.229109</td>\n",
       "      <td>3.229109</td>\n",
       "    </tr>\n",
       "    <tr>\n",
       "      <th>14723</th>\n",
       "      <td>2016-04-22 22:50:00</td>\n",
       "      <td>60</td>\n",
       "      <td>0</td>\n",
       "      <td>22.790000</td>\n",
       "      <td>39.290000</td>\n",
       "      <td>20.730000</td>\n",
       "      <td>39.200000</td>\n",
       "      <td>25.000000</td>\n",
       "      <td>35.925000</td>\n",
       "      <td>22.500000</td>\n",
       "      <td>...</td>\n",
       "      <td>20.390000</td>\n",
       "      <td>37.963333</td>\n",
       "      <td>10.116667</td>\n",
       "      <td>756.900000</td>\n",
       "      <td>72.666667</td>\n",
       "      <td>5.000000</td>\n",
       "      <td>30.833333</td>\n",
       "      <td>5.416667</td>\n",
       "      <td>35.938058</td>\n",
       "      <td>35.938058</td>\n",
       "    </tr>\n",
       "  </tbody>\n",
       "</table>\n",
       "<p>5 rows × 29 columns</p>\n",
       "</div>"
      ],
      "text/plain": [
       "                      date  Appliances  lights         T1       RH_1  \\\n",
       "18913  2016-05-22 01:10:00          60       0  24.676364  49.685727   \n",
       "13918  2016-04-17 08:40:00         240       0  21.290000  40.766667   \n",
       "7424   2016-03-03 06:20:00          40       0  20.390000  37.760000   \n",
       "5716   2016-02-20 09:40:00          40      10  19.230000  41.230000   \n",
       "14723  2016-04-22 22:50:00          60       0  22.790000  39.290000   \n",
       "\n",
       "              T2       RH_2         T3       RH_3         T4    ...      \\\n",
       "18913  24.278378  47.474054  26.864273  44.006364  23.983784    ...       \n",
       "13918  19.356667  43.360000  23.600000  37.900000  21.000000    ...       \n",
       "7424   18.600000  38.730000  20.917500  39.000000  19.290000    ...       \n",
       "5716   17.700000  43.000000  20.390000  38.400000  17.500000    ...       \n",
       "14723  20.730000  39.200000  25.000000  35.925000  22.500000    ...       \n",
       "\n",
       "              T9       RH_9      T_out  Press_mm_hg     RH_out  Windspeed  \\\n",
       "18913  23.181182  48.536364  17.300000   751.183333  82.833333   2.166667   \n",
       "13918  22.030000  42.166667   4.066667   753.666667  91.000000   2.666667   \n",
       "7424   18.290000  42.090000   4.100000   742.833333  85.000000   5.666667   \n",
       "5716   17.600000  43.200000   8.066667   754.300000  97.000000   6.000000   \n",
       "14723  20.390000  37.963333  10.116667   756.900000  72.666667   5.000000   \n",
       "\n",
       "       Visibility  Tdewpoint        rv1        rv2  \n",
       "18913   40.000000  14.366667  25.163918  25.163918  \n",
       "13918   35.000000   2.733333   9.743608   9.743608  \n",
       "7424    36.333333   1.800000   0.307579   0.307579  \n",
       "5716    58.666667   7.666667   3.229109   3.229109  \n",
       "14723   30.833333   5.416667  35.938058  35.938058  \n",
       "\n",
       "[5 rows x 29 columns]"
      ]
     },
     "execution_count": 9,
     "metadata": {},
     "output_type": "execute_result"
    }
   ],
   "source": [
    "test.head()"
   ]
  },
  {
   "cell_type": "code",
   "execution_count": 10,
   "metadata": {},
   "outputs": [
    {
     "name": "stdout",
     "output_type": "stream",
     "text": [
      "<class 'pandas.core.frame.DataFrame'>\n",
      "Int64Index: 13814 entries, 165 to 16387\n",
      "Data columns (total 29 columns):\n",
      "date           13814 non-null object\n",
      "Appliances     13814 non-null int64\n",
      "lights         13814 non-null int64\n",
      "T1             13814 non-null float64\n",
      "RH_1           13814 non-null float64\n",
      "T2             13814 non-null float64\n",
      "RH_2           13814 non-null float64\n",
      "T3             13814 non-null float64\n",
      "RH_3           13814 non-null float64\n",
      "T4             13814 non-null float64\n",
      "RH_4           13814 non-null float64\n",
      "T5             13814 non-null float64\n",
      "RH_5           13814 non-null float64\n",
      "T6             13814 non-null float64\n",
      "RH_6           13814 non-null float64\n",
      "T7             13814 non-null float64\n",
      "RH_7           13814 non-null float64\n",
      "T8             13814 non-null float64\n",
      "RH_8           13814 non-null float64\n",
      "T9             13814 non-null float64\n",
      "RH_9           13814 non-null float64\n",
      "T_out          13814 non-null float64\n",
      "Press_mm_hg    13814 non-null float64\n",
      "RH_out         13814 non-null float64\n",
      "Windspeed      13814 non-null float64\n",
      "Visibility     13814 non-null float64\n",
      "Tdewpoint      13814 non-null float64\n",
      "rv1            13814 non-null float64\n",
      "rv2            13814 non-null float64\n",
      "dtypes: float64(26), int64(2), object(1)\n",
      "memory usage: 3.2+ MB\n"
     ]
    }
   ],
   "source": [
    "train.info()"
   ]
  },
  {
   "cell_type": "code",
   "execution_count": 11,
   "metadata": {},
   "outputs": [],
   "source": [
    "# Deleting irrelevant columns from the dataset\n",
    "train = train.drop([\"rv1\",\"rv2\",\"lights\",\"date\"],axis = 1)\n",
    "test = test.drop([\"rv1\",\"rv2\",\"lights\",\"date\"],axis = 1)"
   ]
  },
  {
   "cell_type": "markdown",
   "metadata": {},
   "source": [
    "* The goal was to predict total energy consumption and not category-wise energy consumption, hence lights was removed.\n",
    "* Date was removed since the probem is that of Regression and not Time series forecasting."
   ]
  },
  {
   "cell_type": "code",
   "execution_count": 12,
   "metadata": {},
   "outputs": [
    {
     "name": "stdout",
     "output_type": "stream",
     "text": [
      "No. of Null values present in the columns: \n",
      "Appliances     0\n",
      "T1             0\n",
      "RH_1           0\n",
      "T2             0\n",
      "RH_2           0\n",
      "T3             0\n",
      "RH_3           0\n",
      "T4             0\n",
      "RH_4           0\n",
      "T5             0\n",
      "RH_5           0\n",
      "T6             0\n",
      "RH_6           0\n",
      "T7             0\n",
      "RH_7           0\n",
      "T8             0\n",
      "RH_8           0\n",
      "T9             0\n",
      "RH_9           0\n",
      "T_out          0\n",
      "Press_mm_hg    0\n",
      "RH_out         0\n",
      "Windspeed      0\n",
      "Visibility     0\n",
      "Tdewpoint      0\n",
      "dtype: int64\n"
     ]
    }
   ],
   "source": [
    "print(\"No. of Null values present in the columns: \")\n",
    "print(train.isnull().sum())"
   ]
  },
  {
   "cell_type": "markdown",
   "metadata": {},
   "source": [
    "* The dataset has no missing values"
   ]
  },
  {
   "cell_type": "code",
   "execution_count": 13,
   "metadata": {},
   "outputs": [],
   "source": [
    "# Columns for temperature sensors\n",
    "temp = [\"T1\", \"T2\", \"T3\", \"T4\", \"T5\", \"T6\", \"T7\", \"T8\", \"T9\"]\n",
    "\n",
    "# Columns for humidity sensors\n",
    "humidity = [\"RH_1\", \"RH_2\", \"RH_3\", \"RH_4\", \"RH_5\", \"RH_6\", \"RH_7\", \"RH_8\", \"RH_9\"]\n",
    "\n",
    "# Columns for weather data\n",
    "factors = [\"T_out\", \"Tdewpoint\", \"RH_out\", \"Press_mm_hg\", \"Windspeed\", \"Visibility\"]\n",
    "\n",
    "# Target variable column\n",
    "target = [\"Appliances\"]"
   ]
  },
  {
   "cell_type": "code",
   "execution_count": 14,
   "metadata": {},
   "outputs": [
    {
     "data": {
      "text/html": [
       "<div>\n",
       "<style scoped>\n",
       "    .dataframe tbody tr th:only-of-type {\n",
       "        vertical-align: middle;\n",
       "    }\n",
       "\n",
       "    .dataframe tbody tr th {\n",
       "        vertical-align: top;\n",
       "    }\n",
       "\n",
       "    .dataframe thead th {\n",
       "        text-align: right;\n",
       "    }\n",
       "</style>\n",
       "<table border=\"1\" class=\"dataframe\">\n",
       "  <thead>\n",
       "    <tr style=\"text-align: right;\">\n",
       "      <th></th>\n",
       "      <th>T1</th>\n",
       "      <th>T2</th>\n",
       "      <th>T3</th>\n",
       "      <th>T4</th>\n",
       "      <th>T5</th>\n",
       "      <th>T6</th>\n",
       "      <th>T7</th>\n",
       "      <th>T8</th>\n",
       "      <th>T9</th>\n",
       "    </tr>\n",
       "  </thead>\n",
       "  <tbody>\n",
       "    <tr>\n",
       "      <th>count</th>\n",
       "      <td>13814.000000</td>\n",
       "      <td>13814.000000</td>\n",
       "      <td>13814.000000</td>\n",
       "      <td>13814.000000</td>\n",
       "      <td>13814.000000</td>\n",
       "      <td>13814.000000</td>\n",
       "      <td>13814.000000</td>\n",
       "      <td>13814.000000</td>\n",
       "      <td>13814.000000</td>\n",
       "    </tr>\n",
       "    <tr>\n",
       "      <th>mean</th>\n",
       "      <td>21.678437</td>\n",
       "      <td>20.330215</td>\n",
       "      <td>22.263042</td>\n",
       "      <td>20.852809</td>\n",
       "      <td>19.592792</td>\n",
       "      <td>7.882978</td>\n",
       "      <td>20.264936</td>\n",
       "      <td>22.030507</td>\n",
       "      <td>19.486236</td>\n",
       "    </tr>\n",
       "    <tr>\n",
       "      <th>std</th>\n",
       "      <td>1.607961</td>\n",
       "      <td>2.200403</td>\n",
       "      <td>2.003774</td>\n",
       "      <td>2.044396</td>\n",
       "      <td>1.846530</td>\n",
       "      <td>6.095648</td>\n",
       "      <td>2.107156</td>\n",
       "      <td>1.958612</td>\n",
       "      <td>2.013643</td>\n",
       "    </tr>\n",
       "    <tr>\n",
       "      <th>min</th>\n",
       "      <td>16.790000</td>\n",
       "      <td>16.100000</td>\n",
       "      <td>17.200000</td>\n",
       "      <td>15.100000</td>\n",
       "      <td>15.330000</td>\n",
       "      <td>-6.030000</td>\n",
       "      <td>15.390000</td>\n",
       "      <td>16.362222</td>\n",
       "      <td>14.890000</td>\n",
       "    </tr>\n",
       "    <tr>\n",
       "      <th>25%</th>\n",
       "      <td>20.730000</td>\n",
       "      <td>18.790000</td>\n",
       "      <td>20.790000</td>\n",
       "      <td>19.500000</td>\n",
       "      <td>18.260000</td>\n",
       "      <td>3.626667</td>\n",
       "      <td>18.700000</td>\n",
       "      <td>20.790000</td>\n",
       "      <td>18.000000</td>\n",
       "    </tr>\n",
       "    <tr>\n",
       "      <th>50%</th>\n",
       "      <td>21.600000</td>\n",
       "      <td>19.978393</td>\n",
       "      <td>22.100000</td>\n",
       "      <td>20.633333</td>\n",
       "      <td>19.390000</td>\n",
       "      <td>7.293333</td>\n",
       "      <td>20.000000</td>\n",
       "      <td>22.127222</td>\n",
       "      <td>19.390000</td>\n",
       "    </tr>\n",
       "    <tr>\n",
       "      <th>75%</th>\n",
       "      <td>22.600000</td>\n",
       "      <td>21.500000</td>\n",
       "      <td>23.290000</td>\n",
       "      <td>22.100000</td>\n",
       "      <td>20.633333</td>\n",
       "      <td>11.160000</td>\n",
       "      <td>21.600000</td>\n",
       "      <td>23.390000</td>\n",
       "      <td>20.600000</td>\n",
       "    </tr>\n",
       "    <tr>\n",
       "      <th>max</th>\n",
       "      <td>26.260000</td>\n",
       "      <td>29.856667</td>\n",
       "      <td>29.236000</td>\n",
       "      <td>26.200000</td>\n",
       "      <td>25.795000</td>\n",
       "      <td>28.290000</td>\n",
       "      <td>26.000000</td>\n",
       "      <td>27.230000</td>\n",
       "      <td>24.500000</td>\n",
       "    </tr>\n",
       "  </tbody>\n",
       "</table>\n",
       "</div>"
      ],
      "text/plain": [
       "                 T1            T2            T3            T4            T5  \\\n",
       "count  13814.000000  13814.000000  13814.000000  13814.000000  13814.000000   \n",
       "mean      21.678437     20.330215     22.263042     20.852809     19.592792   \n",
       "std        1.607961      2.200403      2.003774      2.044396      1.846530   \n",
       "min       16.790000     16.100000     17.200000     15.100000     15.330000   \n",
       "25%       20.730000     18.790000     20.790000     19.500000     18.260000   \n",
       "50%       21.600000     19.978393     22.100000     20.633333     19.390000   \n",
       "75%       22.600000     21.500000     23.290000     22.100000     20.633333   \n",
       "max       26.260000     29.856667     29.236000     26.200000     25.795000   \n",
       "\n",
       "                 T6            T7            T8            T9  \n",
       "count  13814.000000  13814.000000  13814.000000  13814.000000  \n",
       "mean       7.882978     20.264936     22.030507     19.486236  \n",
       "std        6.095648      2.107156      1.958612      2.013643  \n",
       "min       -6.030000     15.390000     16.362222     14.890000  \n",
       "25%        3.626667     18.700000     20.790000     18.000000  \n",
       "50%        7.293333     20.000000     22.127222     19.390000  \n",
       "75%       11.160000     21.600000     23.390000     20.600000  \n",
       "max       28.290000     26.000000     27.230000     24.500000  "
      ]
     },
     "execution_count": 14,
     "metadata": {},
     "output_type": "execute_result"
    }
   ],
   "source": [
    "train[temp].describe()"
   ]
  },
  {
   "cell_type": "code",
   "execution_count": 15,
   "metadata": {},
   "outputs": [
    {
     "data": {
      "text/html": [
       "<div>\n",
       "<style scoped>\n",
       "    .dataframe tbody tr th:only-of-type {\n",
       "        vertical-align: middle;\n",
       "    }\n",
       "\n",
       "    .dataframe tbody tr th {\n",
       "        vertical-align: top;\n",
       "    }\n",
       "\n",
       "    .dataframe thead th {\n",
       "        text-align: right;\n",
       "    }\n",
       "</style>\n",
       "<table border=\"1\" class=\"dataframe\">\n",
       "  <thead>\n",
       "    <tr style=\"text-align: right;\">\n",
       "      <th></th>\n",
       "      <th>RH_1</th>\n",
       "      <th>RH_2</th>\n",
       "      <th>RH_3</th>\n",
       "      <th>RH_4</th>\n",
       "      <th>RH_5</th>\n",
       "      <th>RH_6</th>\n",
       "      <th>RH_7</th>\n",
       "      <th>RH_8</th>\n",
       "      <th>RH_9</th>\n",
       "    </tr>\n",
       "  </thead>\n",
       "  <tbody>\n",
       "    <tr>\n",
       "      <th>count</th>\n",
       "      <td>13814.000000</td>\n",
       "      <td>13814.000000</td>\n",
       "      <td>13814.000000</td>\n",
       "      <td>13814.000000</td>\n",
       "      <td>13814.000000</td>\n",
       "      <td>13814.000000</td>\n",
       "      <td>13814.000000</td>\n",
       "      <td>13814.000000</td>\n",
       "      <td>13814.000000</td>\n",
       "    </tr>\n",
       "    <tr>\n",
       "      <th>mean</th>\n",
       "      <td>40.277271</td>\n",
       "      <td>40.444147</td>\n",
       "      <td>39.251322</td>\n",
       "      <td>39.034250</td>\n",
       "      <td>51.002092</td>\n",
       "      <td>54.669755</td>\n",
       "      <td>35.421247</td>\n",
       "      <td>42.972667</td>\n",
       "      <td>41.574310</td>\n",
       "    </tr>\n",
       "    <tr>\n",
       "      <th>std</th>\n",
       "      <td>3.973725</td>\n",
       "      <td>4.052063</td>\n",
       "      <td>3.259512</td>\n",
       "      <td>4.348357</td>\n",
       "      <td>9.025370</td>\n",
       "      <td>31.155748</td>\n",
       "      <td>5.121001</td>\n",
       "      <td>5.224396</td>\n",
       "      <td>4.157163</td>\n",
       "    </tr>\n",
       "    <tr>\n",
       "      <th>min</th>\n",
       "      <td>27.023333</td>\n",
       "      <td>20.463333</td>\n",
       "      <td>29.000000</td>\n",
       "      <td>28.135714</td>\n",
       "      <td>29.856667</td>\n",
       "      <td>1.000000</td>\n",
       "      <td>23.200000</td>\n",
       "      <td>29.675000</td>\n",
       "      <td>29.166667</td>\n",
       "    </tr>\n",
       "    <tr>\n",
       "      <th>25%</th>\n",
       "      <td>37.363333</td>\n",
       "      <td>37.933333</td>\n",
       "      <td>36.900000</td>\n",
       "      <td>35.530000</td>\n",
       "      <td>45.433333</td>\n",
       "      <td>29.906667</td>\n",
       "      <td>31.500000</td>\n",
       "      <td>39.091250</td>\n",
       "      <td>38.530000</td>\n",
       "    </tr>\n",
       "    <tr>\n",
       "      <th>50%</th>\n",
       "      <td>39.663333</td>\n",
       "      <td>40.500000</td>\n",
       "      <td>38.560000</td>\n",
       "      <td>38.400000</td>\n",
       "      <td>49.166389</td>\n",
       "      <td>55.296667</td>\n",
       "      <td>34.915476</td>\n",
       "      <td>42.422857</td>\n",
       "      <td>40.917805</td>\n",
       "    </tr>\n",
       "    <tr>\n",
       "      <th>75%</th>\n",
       "      <td>43.090000</td>\n",
       "      <td>43.290000</td>\n",
       "      <td>41.790000</td>\n",
       "      <td>42.126667</td>\n",
       "      <td>53.774583</td>\n",
       "      <td>83.396667</td>\n",
       "      <td>39.048333</td>\n",
       "      <td>46.590000</td>\n",
       "      <td>44.400000</td>\n",
       "    </tr>\n",
       "    <tr>\n",
       "      <th>max</th>\n",
       "      <td>63.360000</td>\n",
       "      <td>56.026667</td>\n",
       "      <td>50.090000</td>\n",
       "      <td>51.090000</td>\n",
       "      <td>96.321667</td>\n",
       "      <td>99.900000</td>\n",
       "      <td>51.400000</td>\n",
       "      <td>58.780000</td>\n",
       "      <td>53.326667</td>\n",
       "    </tr>\n",
       "  </tbody>\n",
       "</table>\n",
       "</div>"
      ],
      "text/plain": [
       "               RH_1          RH_2          RH_3          RH_4          RH_5  \\\n",
       "count  13814.000000  13814.000000  13814.000000  13814.000000  13814.000000   \n",
       "mean      40.277271     40.444147     39.251322     39.034250     51.002092   \n",
       "std        3.973725      4.052063      3.259512      4.348357      9.025370   \n",
       "min       27.023333     20.463333     29.000000     28.135714     29.856667   \n",
       "25%       37.363333     37.933333     36.900000     35.530000     45.433333   \n",
       "50%       39.663333     40.500000     38.560000     38.400000     49.166389   \n",
       "75%       43.090000     43.290000     41.790000     42.126667     53.774583   \n",
       "max       63.360000     56.026667     50.090000     51.090000     96.321667   \n",
       "\n",
       "               RH_6          RH_7          RH_8          RH_9  \n",
       "count  13814.000000  13814.000000  13814.000000  13814.000000  \n",
       "mean      54.669755     35.421247     42.972667     41.574310  \n",
       "std       31.155748      5.121001      5.224396      4.157163  \n",
       "min        1.000000     23.200000     29.675000     29.166667  \n",
       "25%       29.906667     31.500000     39.091250     38.530000  \n",
       "50%       55.296667     34.915476     42.422857     40.917805  \n",
       "75%       83.396667     39.048333     46.590000     44.400000  \n",
       "max       99.900000     51.400000     58.780000     53.326667  "
      ]
     },
     "execution_count": 15,
     "metadata": {},
     "output_type": "execute_result"
    }
   ],
   "source": [
    "train[humidity].describe()"
   ]
  },
  {
   "cell_type": "code",
   "execution_count": 16,
   "metadata": {},
   "outputs": [
    {
     "data": {
      "text/html": [
       "<div>\n",
       "<style scoped>\n",
       "    .dataframe tbody tr th:only-of-type {\n",
       "        vertical-align: middle;\n",
       "    }\n",
       "\n",
       "    .dataframe tbody tr th {\n",
       "        vertical-align: top;\n",
       "    }\n",
       "\n",
       "    .dataframe thead th {\n",
       "        text-align: right;\n",
       "    }\n",
       "</style>\n",
       "<table border=\"1\" class=\"dataframe\">\n",
       "  <thead>\n",
       "    <tr style=\"text-align: right;\">\n",
       "      <th></th>\n",
       "      <th>T_out</th>\n",
       "      <th>Tdewpoint</th>\n",
       "      <th>RH_out</th>\n",
       "      <th>Press_mm_hg</th>\n",
       "      <th>Windspeed</th>\n",
       "      <th>Visibility</th>\n",
       "    </tr>\n",
       "  </thead>\n",
       "  <tbody>\n",
       "    <tr>\n",
       "      <th>count</th>\n",
       "      <td>13814.000000</td>\n",
       "      <td>13814.000000</td>\n",
       "      <td>13814.000000</td>\n",
       "      <td>13814.000000</td>\n",
       "      <td>13814.000000</td>\n",
       "      <td>13814.000000</td>\n",
       "    </tr>\n",
       "    <tr>\n",
       "      <th>mean</th>\n",
       "      <td>7.389702</td>\n",
       "      <td>3.759804</td>\n",
       "      <td>79.839104</td>\n",
       "      <td>755.505836</td>\n",
       "      <td>4.033156</td>\n",
       "      <td>38.429946</td>\n",
       "    </tr>\n",
       "    <tr>\n",
       "      <th>std</th>\n",
       "      <td>5.323425</td>\n",
       "      <td>4.204772</td>\n",
       "      <td>14.824310</td>\n",
       "      <td>7.410360</td>\n",
       "      <td>2.455739</td>\n",
       "      <td>11.808356</td>\n",
       "    </tr>\n",
       "    <tr>\n",
       "      <th>min</th>\n",
       "      <td>-4.988889</td>\n",
       "      <td>-6.600000</td>\n",
       "      <td>24.000000</td>\n",
       "      <td>729.333333</td>\n",
       "      <td>0.000000</td>\n",
       "      <td>1.000000</td>\n",
       "    </tr>\n",
       "    <tr>\n",
       "      <th>25%</th>\n",
       "      <td>3.683333</td>\n",
       "      <td>0.933333</td>\n",
       "      <td>70.500000</td>\n",
       "      <td>750.916667</td>\n",
       "      <td>2.000000</td>\n",
       "      <td>29.000000</td>\n",
       "    </tr>\n",
       "    <tr>\n",
       "      <th>50%</th>\n",
       "      <td>6.900000</td>\n",
       "      <td>3.400000</td>\n",
       "      <td>84.000000</td>\n",
       "      <td>756.066667</td>\n",
       "      <td>3.666667</td>\n",
       "      <td>40.000000</td>\n",
       "    </tr>\n",
       "    <tr>\n",
       "      <th>75%</th>\n",
       "      <td>10.350000</td>\n",
       "      <td>6.566667</td>\n",
       "      <td>91.666667</td>\n",
       "      <td>760.900000</td>\n",
       "      <td>5.500000</td>\n",
       "      <td>40.000000</td>\n",
       "    </tr>\n",
       "    <tr>\n",
       "      <th>max</th>\n",
       "      <td>26.100000</td>\n",
       "      <td>15.400000</td>\n",
       "      <td>100.000000</td>\n",
       "      <td>772.300000</td>\n",
       "      <td>14.000000</td>\n",
       "      <td>66.000000</td>\n",
       "    </tr>\n",
       "  </tbody>\n",
       "</table>\n",
       "</div>"
      ],
      "text/plain": [
       "              T_out     Tdewpoint        RH_out   Press_mm_hg     Windspeed  \\\n",
       "count  13814.000000  13814.000000  13814.000000  13814.000000  13814.000000   \n",
       "mean       7.389702      3.759804     79.839104    755.505836      4.033156   \n",
       "std        5.323425      4.204772     14.824310      7.410360      2.455739   \n",
       "min       -4.988889     -6.600000     24.000000    729.333333      0.000000   \n",
       "25%        3.683333      0.933333     70.500000    750.916667      2.000000   \n",
       "50%        6.900000      3.400000     84.000000    756.066667      3.666667   \n",
       "75%       10.350000      6.566667     91.666667    760.900000      5.500000   \n",
       "max       26.100000     15.400000    100.000000    772.300000     14.000000   \n",
       "\n",
       "         Visibility  \n",
       "count  13814.000000  \n",
       "mean      38.429946  \n",
       "std       11.808356  \n",
       "min        1.000000  \n",
       "25%       29.000000  \n",
       "50%       40.000000  \n",
       "75%       40.000000  \n",
       "max       66.000000  "
      ]
     },
     "execution_count": 16,
     "metadata": {},
     "output_type": "execute_result"
    }
   ],
   "source": [
    "train[factors].describe()"
   ]
  },
  {
   "cell_type": "code",
   "execution_count": 17,
   "metadata": {},
   "outputs": [
    {
     "data": {
      "text/html": [
       "<div>\n",
       "<style scoped>\n",
       "    .dataframe tbody tr th:only-of-type {\n",
       "        vertical-align: middle;\n",
       "    }\n",
       "\n",
       "    .dataframe tbody tr th {\n",
       "        vertical-align: top;\n",
       "    }\n",
       "\n",
       "    .dataframe thead th {\n",
       "        text-align: right;\n",
       "    }\n",
       "</style>\n",
       "<table border=\"1\" class=\"dataframe\">\n",
       "  <thead>\n",
       "    <tr style=\"text-align: right;\">\n",
       "      <th></th>\n",
       "      <th>Appliances</th>\n",
       "    </tr>\n",
       "  </thead>\n",
       "  <tbody>\n",
       "    <tr>\n",
       "      <th>count</th>\n",
       "      <td>13814.000000</td>\n",
       "    </tr>\n",
       "    <tr>\n",
       "      <th>mean</th>\n",
       "      <td>97.904300</td>\n",
       "    </tr>\n",
       "    <tr>\n",
       "      <th>std</th>\n",
       "      <td>103.104293</td>\n",
       "    </tr>\n",
       "    <tr>\n",
       "      <th>min</th>\n",
       "      <td>10.000000</td>\n",
       "    </tr>\n",
       "    <tr>\n",
       "      <th>25%</th>\n",
       "      <td>50.000000</td>\n",
       "    </tr>\n",
       "    <tr>\n",
       "      <th>50%</th>\n",
       "      <td>60.000000</td>\n",
       "    </tr>\n",
       "    <tr>\n",
       "      <th>75%</th>\n",
       "      <td>100.000000</td>\n",
       "    </tr>\n",
       "    <tr>\n",
       "      <th>max</th>\n",
       "      <td>910.000000</td>\n",
       "    </tr>\n",
       "  </tbody>\n",
       "</table>\n",
       "</div>"
      ],
      "text/plain": [
       "         Appliances\n",
       "count  13814.000000\n",
       "mean      97.904300\n",
       "std      103.104293\n",
       "min       10.000000\n",
       "25%       50.000000\n",
       "50%       60.000000\n",
       "75%      100.000000\n",
       "max      910.000000"
      ]
     },
     "execution_count": 17,
     "metadata": {},
     "output_type": "execute_result"
    }
   ],
   "source": [
    "train[target].describe()"
   ]
  },
  {
   "cell_type": "markdown",
   "metadata": {},
   "source": [
    "* The range of temperature for all sensors present inside home is between 14.89℃ to 29.85℃ except for T6 for which it is -6.03℃ to 28.23℃. The reason for such low readings is that the sensor is kept outside.\n",
    "* The humudity ranges for all home sensors is between 20.83% to 63.36%. Except for RH_5 and RH_6, whose ranges are 29.81% to 96.32% and 1% to 99.9% respectively. This is because RH_5 is inside the bathroom and RH_6 is outside the building, hence having high humidity values\n",
    "* It can also be seen that most of the devices consume less energy since 75% of the Appliances consume < 100Wh\n"
   ]
  },
  {
   "cell_type": "markdown",
   "metadata": {},
   "source": [
    "# Visualization\n"
   ]
  },
  {
   "cell_type": "markdown",
   "metadata": {},
   "source": [
    "## Temperature sensors"
   ]
  },
  {
   "cell_type": "code",
   "execution_count": 18,
   "metadata": {},
   "outputs": [
    {
     "data": {
      "image/png": "[encoded data removed]",
      "text/plain": [
       "<Figure size 1008x1008 with 2 Axes>"
      ]
     },
     "metadata": {
      "needs_background": "light"
     },
     "output_type": "display_data"
    }
   ],
   "source": [
    "plt.figure(figsize=(14,14))\n",
    "sns.heatmap(train[temp].corr(), annot=True, cmap='cubehelix_r') \n",
    "plt.show()"
   ]
  },
  {
   "cell_type": "markdown",
   "metadata": {},
   "source": [
    "* Here T7 and T9 are highly correlated. T5 also has high correlation with other values. "
   ]
  },
  {
   "cell_type": "code",
   "execution_count": 19,
   "metadata": {},
   "outputs": [
    {
     "data": {
      "image/png": "[encoded data removed]",
      "text/plain": [
       "<Figure size 864x864 with 2 Axes>"
      ]
     },
     "metadata": {
      "needs_background": "light"
     },
     "output_type": "display_data"
    }
   ],
   "source": [
    "plt.figure(figsize=(12,12))\n",
    "sns.heatmap(train[humidity].corr(), annot=True, cmap='cubehelix_r') \n",
    "plt.show()"
   ]
  },
  {
   "cell_type": "code",
   "execution_count": 20,
   "metadata": {},
   "outputs": [
    {
     "data": {
      "image/png": "[encoded data removed]",
      "text/plain": [
       "<Figure size 576x576 with 2 Axes>"
      ]
     },
     "metadata": {
      "needs_background": "light"
     },
     "output_type": "display_data"
    }
   ],
   "source": [
    "plt.figure(figsize=(8,8))\n",
    "sns.heatmap(train[factors].corr(), annot=True, cmap='cubehelix_r') \n",
    "plt.show()"
   ]
  },
  {
   "cell_type": "markdown",
   "metadata": {},
   "source": [
    "* No significant correlation between features of the weather data"
   ]
  },
  {
   "cell_type": "markdown",
   "metadata": {},
   "source": [
    "## Histogram for each column"
   ]
  },
  {
   "cell_type": "code",
   "execution_count": 21,
   "metadata": {},
   "outputs": [
    {
     "data": {
      "image/png": "[encoded data removed]",
      "text/plain": [
       "<Figure size 1008x1008 with 25 Axes>"
      ]
     },
     "metadata": {
      "needs_background": "light"
     },
     "output_type": "display_data"
    }
   ],
   "source": [
    "htg = train.hist(figsize=(14, 14), bins=20)"
   ]
  },
  {
   "cell_type": "code",
   "execution_count": 22,
   "metadata": {},
   "outputs": [
    {
     "data": {
      "text/plain": [
       "<matplotlib.axes._subplots.AxesSubplot at 0x11dce4208>"
      ]
     },
     "execution_count": 22,
     "metadata": {},
     "output_type": "execute_result"
    },
    {
     "data": {
      "image/png": "[encoded data removed]",
      "text/plain": [
       "<Figure size 1152x576 with 1 Axes>"
      ]
     },
     "metadata": {
      "needs_background": "light"
     },
     "output_type": "display_data"
    }
   ],
   "source": [
    "plt.xlabel(\"Energy Consumption of Appliances in Wh\", fontsize=\"x-large\")\n",
    "plt.ylabel(\"Number of instances\", fontsize=\"x-large\")\n",
    "train[\"Appliances\"].hist(figsize=(16, 8), bins=100)"
   ]
  },
  {
   "cell_type": "markdown",
   "metadata": {},
   "source": [
    "* It can be observed that most of the values are in the range of 0-200Wh, which also shows that mot of the appliances consume low energy. The total percentage of data set in the range of 0-200 Wh s calculated below"
   ]
  },
  {
   "cell_type": "code",
   "execution_count": 23,
   "metadata": {},
   "outputs": [
    {
     "name": "stdout",
     "output_type": "stream",
     "text": [
      "Percentage of dataset in range of 0-200 Wh\n",
      "90.26%\n"
     ]
    }
   ],
   "source": [
    "print(\"Percentage of dataset in range of 0-200 Wh\")\n",
    "print(\"{:.2f}%\".format(\n",
    "    (train[train.Appliances <= 200][\"Appliances\"].count()*100.0) / train.shape[0]\n",
    "))"
   ]
  },
  {
   "cell_type": "code",
   "execution_count": 24,
   "metadata": {},
   "outputs": [
    {
     "name": "stderr",
     "output_type": "stream",
     "text": [
      "/usr/local/lib/python3.7/site-packages/sklearn/linear_model/base.py:485: RuntimeWarning: internal gelsd driver lwork query error, required iwork dimension not returned. This is likely the result of LAPACK bug 0038, fixed in LAPACK 3.2.2 (released July 21, 2010). Falling back to 'gelss' driver.\n",
      "  linalg.lstsq(X, y)\n"
     ]
    }
   ],
   "source": [
    "from sklearn.linear_model import LinearRegression\n",
    "from time import time\n",
    "#Prepare the data\n",
    "X_train = train.drop(\"Appliances\", axis=1)\n",
    "Y_train = train[\"Appliances\"]\n",
    "\n",
    "X_test = test.drop(\"Appliances\", axis=1)\n",
    "Y_test = test[\"Appliances\"]\n",
    "\n",
    "#Fit the data\n",
    "basic_model = LinearRegression()\n",
    "start = time()\n",
    "basic_model.fit(X_train, Y_train)\n",
    "end = time()"
   ]
  },
  {
   "cell_type": "code",
   "execution_count": 25,
   "metadata": {},
   "outputs": [
    {
     "name": "stdout",
     "output_type": "stream",
     "text": [
      "The classifier fitted in 0.03 seconds\n"
     ]
    }
   ],
   "source": [
    "print(\"The classifier fitted in {:.2f} seconds\".format(end-start))"
   ]
  },
  {
   "cell_type": "code",
   "execution_count": 26,
   "metadata": {},
   "outputs": [
    {
     "name": "stdout",
     "output_type": "stream",
     "text": [
      "Score on training data : 14.617%\n",
      "Score on testing data : 14.539%\n"
     ]
    }
   ],
   "source": [
    "print(\"Score on training data : {:.3f}%\".format(basic_model.score(X_train, Y_train) * 100))\n",
    "print(\"Score on testing data : {:.3f}%\".format(basic_model.score(X_test, Y_test) * 100))"
   ]
  },
  {
   "cell_type": "code",
   "execution_count": 27,
   "metadata": {},
   "outputs": [],
   "source": [
    "#Remove correlated features T5 and T9\n",
    "train = train.drop([\"T5\", \"T9\"], axis=1)\n",
    "test.drop([\"T5\", \"T9\"], axis=1, inplace=True) "
   ]
  },
  {
   "cell_type": "code",
   "execution_count": 28,
   "metadata": {},
   "outputs": [],
   "source": [
    "from sklearn.preprocessing import StandardScaler #Import Scaler"
   ]
  },
  {
   "cell_type": "code",
   "execution_count": 29,
   "metadata": {},
   "outputs": [
    {
     "name": "stderr",
     "output_type": "stream",
     "text": [
      "/usr/local/lib/python3.7/site-packages/sklearn/preprocessing/data.py:625: DataConversionWarning: Data with input dtype int64, float64 were all converted to float64 by StandardScaler.\n",
      "  return self.partial_fit(X, y)\n",
      "/usr/local/lib/python3.7/site-packages/sklearn/base.py:462: DataConversionWarning: Data with input dtype int64, float64 were all converted to float64 by StandardScaler.\n",
      "  return self.fit(X, **fit_params).transform(X)\n",
      "/usr/local/lib/python3.7/site-packages/sklearn/preprocessing/data.py:625: DataConversionWarning: Data with input dtype int64, float64 were all converted to float64 by StandardScaler.\n",
      "  return self.partial_fit(X, y)\n",
      "/usr/local/lib/python3.7/site-packages/sklearn/base.py:462: DataConversionWarning: Data with input dtype int64, float64 were all converted to float64 by StandardScaler.\n",
      "  return self.fit(X, **fit_params).transform(X)\n"
     ]
    }
   ],
   "source": [
    "# Scale the data to zero mean and unit variance\n",
    "std_scaler = StandardScaler()\n",
    "# Create new dataframes to hold the scaled train and test data\n",
    "train_scaled = pd.DataFrame(columns=train.columns, index=train.index)\n",
    "test_scaled = pd.DataFrame(columns=test.columns, index=test.index)\n",
    "# Store the scaled data in new dataframes\n",
    "train_scaled[train_scaled.columns] = std_scaler.fit_transform(train)\n",
    "test_scaled[test_scaled.columns] = std_scaler.fit_transform(test)"
   ]
  },
  {
   "cell_type": "code",
   "execution_count": 53,
   "metadata": {},
   "outputs": [],
   "source": [
    "#Prepare the data\n",
    "X_train = train_scaled.drop(\"Appliances\", axis=1)\n",
    "Y_train = train_scaled[\"Appliances\"]\n",
    "\n",
    "X_test = test_scaled.drop(\"Appliances\", axis=1)\n",
    "Y_test = test_scaled[\"Appliances\"]"
   ]
  },
  {
   "cell_type": "markdown",
   "metadata": {},
   "source": [
    "# Algorithms to be used"
   ]
  },
  {
   "cell_type": "markdown",
   "metadata": {},
   "source": [
    "## Regularized Linear models as an improvement over Linear Regression.\n",
    "\n",
    "* Ridge Regression\n",
    "* Lasso Regression"
   ]
  },
  {
   "cell_type": "markdown",
   "metadata": {},
   "source": [
    "## Ensemble based Tree Regression models\n",
    "* Random Forests\n",
    "* Gradient Boosting"
   ]
  },
  {
   "cell_type": "markdown",
   "metadata": {},
   "source": [
    "### Model Implementation"
   ]
  },
  {
   "cell_type": "code",
   "execution_count": 31,
   "metadata": {},
   "outputs": [],
   "source": [
    "# calculate Root mean squared error\n",
    "from sklearn.metrics import mean_squared_error\n",
    "# Function to fit the regressor and record its metrics\n",
    "def model_pipeline(reg, X_train, Y_train, X_test, Y_test, **kwargs):\n",
    "    # Dictionary to hold the properties\n",
    "    reg_properties = {}\n",
    "    \n",
    "     # Initialize and fit the regressor while recording the time taken for fitting\n",
    "    regressor = reg(**kwargs)\n",
    "    start = time()\n",
    "    regressor.fit(X_train, Y_train)\n",
    "    end = time()\n",
    "    \n",
    "    # Store the metrics for the regressor\n",
    "    reg_properties[\"name\"] = reg.__name__\n",
    "    reg_properties[\"time_train\"] = end - start\n",
    "    reg_properties[\"score_train\"] = regressor.score(X_train, Y_train)\n",
    "    reg_properties[\"score_test\"] = regressor.score(X_test, Y_test)\n",
    "    reg_properties[\"rmse\"] = np.sqrt(mean_squared_error(Y_test, regressor.predict(X_test)))\n",
    "    \n",
    "    return reg_properties"
   ]
  },
  {
   "cell_type": "code",
   "execution_count": 32,
   "metadata": {},
   "outputs": [],
   "source": [
    "# Import the required Regression algorithms\n",
    "from sklearn.linear_model import Ridge, Lasso\n",
    "from sklearn.ensemble import RandomForestRegressor, GradientBoostingRegressor\n",
    "\n",
    "# Function to execute each algorithm \n",
    "def execute_model_pipeline():\n",
    "    # Create the list of algorithms to be executed\n",
    "    regressors = [\n",
    "        Ridge,\n",
    "        Lasso,\n",
    "        RandomForestRegressor,\n",
    "        GradientBoostingRegressor\n",
    "    ]\n",
    "    \n",
    "    # To store the properties for each regressor\n",
    "    prop = []\n",
    "    \n",
    "    \"\"\"\n",
    "    Iterate through the list of regressors,\n",
    "    storing its properites\n",
    "    \"\"\" \n",
    "    for reg in regressors:\n",
    "        properites = model_pipeline(reg, X_train, Y_train, X_test, Y_test)\n",
    "        prop.append(properites)\n",
    "        \n",
    "    return prop"
   ]
  },
  {
   "cell_type": "code",
   "execution_count": 33,
   "metadata": {},
   "outputs": [],
   "source": [
    "# Place the properties into a DataFrame\n",
    "def get_properties():\n",
    "    # Obtain the properties after executing the pipeline\n",
    "    properties = execute_model_pipeline()\n",
    "    \n",
    "    # Extract each individual property of the Regressors\n",
    "    names = [prop[\"name\"] for prop in properties]\n",
    "    train_times = [prop[\"time_train\"] for prop in properties]\n",
    "    train_scores = [prop[\"score_train\"] for prop in properties]\n",
    "    test_scores = [prop[\"score_test\"] for prop in properties]\n",
    "    rmse_value = [prop[\"rmse\"] for prop in properties]\n",
    "    \n",
    "    # Create a DataFrame from these properties\n",
    "    df = pd.DataFrame(index=names, \n",
    "                    data = { \"Training time\": train_times,\n",
    "                            \"Training score\": train_scores,\n",
    "                            \"Testing score\": test_scores,\n",
    "                            \"RMSE\": rmse_value\n",
    "                      }\n",
    "                  )\n",
    "    \n",
    "    return df"
   ]
  },
  {
   "cell_type": "code",
   "execution_count": 34,
   "metadata": {},
   "outputs": [
    {
     "name": "stderr",
     "output_type": "stream",
     "text": [
      "/usr/local/lib/python3.7/site-packages/sklearn/ensemble/forest.py:246: FutureWarning: The default value of n_estimators will change from 10 in version 0.20 to 100 in 0.22.\n",
      "  \"10 in version 0.20 to 100 in 0.22.\", FutureWarning)\n"
     ]
    }
   ],
   "source": [
    "properties = get_properties()"
   ]
  },
  {
   "cell_type": "code",
   "execution_count": 51,
   "metadata": {},
   "outputs": [
    {
     "name": "stderr",
     "output_type": "stream",
     "text": [
      "/usr/local/lib/python3.7/site-packages/sklearn/preprocessing/data.py:625: DataConversionWarning: Data with input dtype int64, float64 were all converted to float64 by StandardScaler.\n",
      "  return self.partial_fit(X, y)\n",
      "/usr/local/lib/python3.7/site-packages/sklearn/base.py:462: DataConversionWarning: Data with input dtype int64, float64 were all converted to float64 by StandardScaler.\n",
      "  return self.fit(X, **fit_params).transform(X)\n",
      "/usr/local/lib/python3.7/site-packages/sklearn/preprocessing/data.py:625: DataConversionWarning: Data with input dtype int64, float64 were all converted to float64 by StandardScaler.\n",
      "  return self.partial_fit(X, y)\n",
      "/usr/local/lib/python3.7/site-packages/sklearn/base.py:462: DataConversionWarning: Data with input dtype int64, float64 were all converted to float64 by StandardScaler.\n",
      "  return self.fit(X, **fit_params).transform(X)\n",
      "/usr/local/lib/python3.7/site-packages/ipykernel_launcher.py:32: FutureWarning: Sorting because non-concatenation axis is not aligned. A future version\n",
      "of pandas will change to not sort by default.\n",
      "\n",
      "To accept the future behavior, pass 'sort=False'.\n",
      "\n",
      "To retain the current behavior and silence the warning, pass 'sort=True'.\n",
      "\n"
     ]
    },
    {
     "data": {
      "text/html": [
       "<div>\n",
       "<style scoped>\n",
       "    .dataframe tbody tr th:only-of-type {\n",
       "        vertical-align: middle;\n",
       "    }\n",
       "\n",
       "    .dataframe tbody tr th {\n",
       "        vertical-align: top;\n",
       "    }\n",
       "\n",
       "    .dataframe thead th {\n",
       "        text-align: right;\n",
       "    }\n",
       "</style>\n",
       "<table border=\"1\" class=\"dataframe\">\n",
       "  <thead>\n",
       "    <tr style=\"text-align: right;\">\n",
       "      <th></th>\n",
       "      <th>RMSE</th>\n",
       "      <th>Testing score</th>\n",
       "      <th>Training score</th>\n",
       "      <th>Training time</th>\n",
       "    </tr>\n",
       "  </thead>\n",
       "  <tbody>\n",
       "    <tr>\n",
       "      <th>Ridge</th>\n",
       "      <td>0.928459</td>\n",
       "      <td>0.137963</td>\n",
       "      <td>0.137991</td>\n",
       "      <td>0.00799799</td>\n",
       "    </tr>\n",
       "    <tr>\n",
       "      <th>Lasso</th>\n",
       "      <td>1</td>\n",
       "      <td>0</td>\n",
       "      <td>0</td>\n",
       "      <td>0.005831</td>\n",
       "    </tr>\n",
       "    <tr>\n",
       "      <th>RandomForestRegressor</th>\n",
       "      <td>0.70325</td>\n",
       "      <td>0.50544</td>\n",
       "      <td>0.910591</td>\n",
       "      <td>2.75751</td>\n",
       "    </tr>\n",
       "    <tr>\n",
       "      <th>GradientBoostingRegressor</th>\n",
       "      <td>0.866992</td>\n",
       "      <td>0.248325</td>\n",
       "      <td>0.321958</td>\n",
       "      <td>1.74728</td>\n",
       "    </tr>\n",
       "    <tr>\n",
       "      <th>Linear Regression (Basic)</th>\n",
       "      <td>0.114092</td>\n",
       "      <td>0.986983</td>\n",
       "      <td>0.98842</td>\n",
       "      <td>0.00943112</td>\n",
       "    </tr>\n",
       "    <tr>\n",
       "      <th>Linear Regression (Basic)</th>\n",
       "      <td>0.114092</td>\n",
       "      <td>0.986983</td>\n",
       "      <td>0.98842</td>\n",
       "      <td>0.0125861</td>\n",
       "    </tr>\n",
       "    <tr>\n",
       "      <th>Linear Regression (Basic)</th>\n",
       "      <td>0.114092</td>\n",
       "      <td>0.986983</td>\n",
       "      <td>0.98842</td>\n",
       "      <td>0.00934005</td>\n",
       "    </tr>\n",
       "  </tbody>\n",
       "</table>\n",
       "</div>"
      ],
      "text/plain": [
       "                               RMSE Testing score Training score Training time\n",
       "Ridge                      0.928459      0.137963       0.137991    0.00799799\n",
       "Lasso                             1             0              0      0.005831\n",
       "RandomForestRegressor       0.70325       0.50544       0.910591       2.75751\n",
       "GradientBoostingRegressor  0.866992      0.248325       0.321958       1.74728\n",
       "Linear Regression (Basic)  0.114092      0.986983        0.98842    0.00943112\n",
       "Linear Regression (Basic)  0.114092      0.986983        0.98842     0.0125861\n",
       "Linear Regression (Basic)  0.114092      0.986983        0.98842    0.00934005"
      ]
     },
     "execution_count": 51,
     "metadata": {},
     "output_type": "execute_result"
    }
   ],
   "source": [
    "# RMSE for the Basic model\n",
    "\n",
    "#For calculating RMSE of Linear Regression (Basic Model)\n",
    "#we will scale the dataset so that all RMSE values are in the same scale\n",
    "\n",
    "data = std_scaler.fit_transform(train)\n",
    "test_data = std_scaler.fit_transform(test)\n",
    "\n",
    "X = data[:, :-1]\n",
    "y = data[:, -1]\n",
    "X_test2 = test_data[:, :-1]\n",
    "y_test = test_data[:, -1]\n",
    "\n",
    "# Fit the model\n",
    "start = time()\n",
    "basic_model.fit(X, y)\n",
    "end = time()\n",
    "\n",
    "# Append the peoperties of Basic model to the DataFrame\n",
    "# storing the properties of selected models\n",
    "\n",
    "properties = pd.concat(\n",
    "    [properties,\n",
    "    pd.Series(\n",
    "    {\n",
    "        \"RMSE\": np.sqrt(mean_squared_error(y_test, basic_model.predict(X_test2))),\n",
    "        \"Training score\": basic_model.score(X, y),\n",
    "        \"Testing score\" :basic_model.score(X_test2, y_test),\n",
    "        \"Training time\": end - start,\n",
    "        \"Name\": \"Linear Regression (Basic)\"\n",
    "    }\n",
    "    ).to_frame().T.set_index([\"Name\"])]\n",
    ")\n",
    "\n",
    "properties\n"
   ]
  },
  {
   "cell_type": "code",
   "execution_count": 36,
   "metadata": {},
   "outputs": [
    {
     "data": {
      "text/plain": [
       "<matplotlib.axes._subplots.AxesSubplot at 0x11ff4dac8>"
      ]
     },
     "execution_count": 36,
     "metadata": {},
     "output_type": "execute_result"
    },
    {
     "data": {
      "image/png": "[encoded data removed]",
      "text/plain": [
       "<Figure size 432x288 with 1 Axes>"
      ]
     },
     "metadata": {
      "needs_background": "light"
     },
     "output_type": "display_data"
    }
   ],
   "source": [
    "plt.ylabel(\"Training time in seconds\", fontsize=\"large\")\n",
    "properties[\"Training time\"].plot(kind=\"bar\", title=\"Training time of Regressor\")"
   ]
  },
  {
   "cell_type": "markdown",
   "metadata": {},
   "source": [
    "* Fastest Regressor to train - Linear, Ridge and Lasso Regressors\n",
    "* Slowest Regressor to train - RandomForestRegressor"
   ]
  },
  {
   "cell_type": "code",
   "execution_count": 37,
   "metadata": {
    "scrolled": true
   },
   "outputs": [
    {
     "data": {
      "text/plain": [
       "Text(0, 0.5, 'R2 Score/ RMSE')"
      ]
     },
     "execution_count": 37,
     "metadata": {},
     "output_type": "execute_result"
    },
    {
     "data": {
      "image/png": "[encoded data removed]",
      "text/plain": [
       "<Figure size 1152x576 with 1 Axes>"
      ]
     },
     "metadata": {
      "needs_background": "light"
     },
     "output_type": "display_data"
    }
   ],
   "source": [
    "perf= properties[[\"Training score\", \"Testing score\", \"RMSE\"]].plot(kind=\"bar\", title=\"Performance of each Regressor\", figsize=(16, 8))\n",
    "perf.set_ylabel(\"R2 Score/ RMSE\", fontsize=\"large\")"
   ]
  },
  {
   "cell_type": "markdown",
   "metadata": {},
   "source": [
    "## Hyperparameter Tuning"
   ]
  },
  {
   "cell_type": "code",
   "execution_count": 43,
   "metadata": {},
   "outputs": [
    {
     "name": "stdout",
     "output_type": "stream",
     "text": [
      "Fitting 5 folds for each of 90 candidates, totalling 450 fits\n"
     ]
    },
    {
     "name": "stderr",
     "output_type": "stream",
     "text": [
      "[Parallel(n_jobs=-1)]: Using backend LokyBackend with 4 concurrent workers.\n",
      "[Parallel(n_jobs=-1)]: Done  33 tasks      | elapsed:  4.5min\n",
      "[Parallel(n_jobs=-1)]: Done 154 tasks      | elapsed: 10.4min\n",
      "[Parallel(n_jobs=-1)]: Done 357 tasks      | elapsed: 29.1min\n",
      "[Parallel(n_jobs=-1)]: Done 450 out of 450 | elapsed: 36.5min finished\n"
     ]
    },
    {
     "data": {
      "text/plain": [
       "GridSearchCV(cv=5, error_score='raise-deprecating',\n",
       "       estimator=RandomForestRegressor(bootstrap=True, criterion='mse', max_depth=None,\n",
       "           max_features='auto', max_leaf_nodes=None,\n",
       "           min_impurity_decrease=0.0, min_impurity_split=None,\n",
       "           min_samples_leaf=1, min_samples_split=2,\n",
       "           min_weight_fraction_leaf=0.0, n_estimators='warn', n_jobs=None,\n",
       "           oob_score=False, random_state=80, verbose=0, warm_start=False),\n",
       "       fit_params=None, iid='warn', n_jobs=-1,\n",
       "       param_grid={'n_estimators': [10, 50, 100, 200, 250], 'max_features': ['auto', 'sqrt', 'log2'], 'max_depth': [None, 10, 50, 100, 200, 500]},\n",
       "       pre_dispatch='2*n_jobs', refit=True, return_train_score='warn',\n",
       "       scoring='r2', verbose=2)"
      ]
     },
     "execution_count": 43,
     "metadata": {},
     "output_type": "execute_result"
    }
   ],
   "source": [
    "from sklearn.model_selection import GridSearchCV\n",
    "\n",
    "# Initialize RandomForestRegressor\n",
    "clf = RandomForestRegressor(random_state=80)\n",
    "\n",
    "# Define the parameter subset\n",
    "param_grid = {\n",
    "    \"n_estimators\": [10, 50, 100, 200, 250],\n",
    "    \"max_features\": [\"auto\", \"sqrt\", \"log2\"],\n",
    "    \"max_depth\": [None, 10, 50, 100, 200, 500]\n",
    "}\n",
    "\n",
    "# Using Grid search with 5-fold cross validation\n",
    "grid_search = GridSearchCV(clf, param_grid, scoring=\"r2\", cv=5, n_jobs=-1, verbose=2)\n",
    "grid_search.fit(X_train, Y_train)"
   ]
  },
  {
   "cell_type": "code",
   "execution_count": 52,
   "metadata": {},
   "outputs": [
    {
     "name": "stdout",
     "output_type": "stream",
     "text": [
      "Parameters of best Regressor : {'max_depth': 50, 'max_features': 'sqrt', 'n_estimators': 250}\n"
     ]
    }
   ],
   "source": [
    "print(\"Parameters of best Regressor : {}\".format(grid_search.best_params_))"
   ]
  },
  {
   "cell_type": "code",
   "execution_count": 54,
   "metadata": {},
   "outputs": [
    {
     "name": "stdout",
     "output_type": "stream",
     "text": [
      "R2 score on Training set = 0.940\n",
      "RMSE on Training set = 0.245\n",
      "R2 score on Testing set = 0.584\n",
      "RMSE on Testing set = 0.645\n"
     ]
    }
   ],
   "source": [
    "best_model = grid_search.best_estimator_\n",
    "\n",
    "# Display metrics on training and test set\n",
    "print(\"R2 score on Training set = {:.3f}\".format(best_model.score(X_train, Y_train)))\n",
    "print(\"RMSE on Training set = {:.3f}\".format(np.sqrt(mean_squared_error(Y_train, best_model.predict(X_train)))))\n",
    "print(\"R2 score on Testing set = {:.3f}\".format(best_model.score(X_test, Y_test)))\n",
    "print(\"RMSE on Testing set = {:.3f}\".format(np.sqrt(mean_squared_error(Y_test, best_model.predict(X_test)))))"
   ]
  },
  {
   "cell_type": "markdown",
   "metadata": {},
   "source": [
    "* Parameters of best Regressor have been found out using best_params_ after performing GridSearch\n",
    "* The R2 and RMSE values obtained after tuning have been mentioned above"
   ]
  },
  {
   "cell_type": "code",
   "execution_count": null,
   "metadata": {},
   "outputs": [],
   "source": []
  }
 ],
 "metadata": {
  "kernelspec": {
   "display_name": "Python 3",
   "language": "python",
   "name": "python3"
  },
  "language_info": {
   "codemirror_mode": {
    "name": "ipython",
    "version": 3
   },
   "file_extension": ".py",
   "mimetype": "text/x-python",
   "name": "python",
   "nbconvert_exporter": "python",
   "pygments_lexer": "ipython3",
   "version": "3.7.1"
  }
 },
 "nbformat": 4,
 "nbformat_minor": 2
}
